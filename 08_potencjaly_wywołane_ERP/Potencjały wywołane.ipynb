{
 "cells": [
  {
   "cell_type": "markdown",
   "metadata": {},
   "source": [
    "# Potencjały wywołane ERP"
   ]
  },
  {
   "cell_type": "markdown",
   "metadata": {},
   "source": [
    "* N100 (N1) - odzwierciedla wczesne przetwarzanie bodźców sensorycznych, stosowany w badaniach uwagi i selekcji bodźców.\n",
    "* P300 (P3) - odzwierciedla procesy uwagi i aktualizacji pamięci roboczej, szeroko stosowany w badaniach poznania i neurologii klinicznej.\n",
    "* N400 - odzwierciedla przetwarzanie semantyczne i rozbieżności w kontekście językowym, używany w badaniach nad językiem i pamięcią.\n",
    "* P600 - związany z przetwarzaniem składniowym w języku, wykorzystywany w analizie zdolności językowych i zaburzeń mowy."
   ]
  },
  {
   "cell_type": "markdown",
   "metadata": {},
   "source": [
    "### Analiza potencjałów ERP (kroki)"
   ]
  },
  {
   "cell_type": "markdown",
   "metadata": {},
   "source": [
    "1. Filtracja\n",
    "2. Segmentacja\n",
    "3. Uśrednianie sygnału\n",
    "\n",
    "Więcej informacji: https://www.researchgate.net/post/How_to_evaluate_N170_N200_P300_N400_and_P600_from_EEG_signals"
   ]
  },
  {
   "cell_type": "markdown",
   "metadata": {},
   "source": [
    "### Zacznijmy od importu potrzebnych paczek. "
   ]
  },
  {
   "cell_type": "code",
   "execution_count": null,
   "metadata": {},
   "outputs": [],
   "source": [
    "import pandas as pd\n",
    "import matplotlib.pyplot as plt\n",
    "import aseegg as ag \n",
    "import numpy as np\n",
    "import random"
   ]
  },
  {
   "cell_type": "markdown",
   "metadata": {},
   "source": [
    "### Plik, który będziemy używać to 'dane_potencjaly.csv'"
   ]
  },
  {
   "cell_type": "code",
   "execution_count": null,
   "metadata": {},
   "outputs": [],
   "source": [
    "df = pd.read_csv('dane_potencjaly.csv', names=['FCz', 'Cz', 'Fz', 'Pz', 'C3', 'C4', 'F3', 'F4','event'])"
   ]
  },
  {
   "cell_type": "code",
   "execution_count": null,
   "metadata": {},
   "outputs": [],
   "source": [
    "df"
   ]
  },
  {
   "cell_type": "markdown",
   "metadata": {},
   "source": [
    "<img src=\"../images/elektrody_eeg.png\" width=\"500\" align=\"center\">\n",
    "\n",
    "(Kaongoen & Jo, 2017)"
   ]
  },
  {
   "cell_type": "markdown",
   "metadata": {},
   "source": [
    "<img src=\"../images/TRex-RAS.png\" width=\"600\" align=\"center\">"
   ]
  },
  {
   "cell_type": "markdown",
   "metadata": {},
   "source": [
    "### Opis eventów\n",
    "1 - successful click - udane wciśnięcie spacji, skutkujące skokiem w grze (gra trwała dalej) <br>\n",
    "2 - unsuccessful click - nieudane wciśnięcie spacji, program nie wykonał polecenia skoku (gra trwała dalej)<br>\n",
    "3 - successful click before endgame - udane wciśnięcie spacji w programie, które prowadziło do przegranej gry (błąd użytkownika)<br>\n",
    "4 - unsuccessful click before endgame - nieudane wciśnięcie spacji, które prowadziło do przegranej gry (błąd interfejsu)<br>\n",
    "5 - succesful click endgame - moment kolizji w grze, który był poprzedzony udanym wciśnięciem spacji (feedback o błędzie)<br>\n",
    "6 - unsuccesful click endgame - moment kolizji w grze, który był poprzedzony nieudanym wciśnięciem spacji"
   ]
  },
  {
   "cell_type": "markdown",
   "metadata": {},
   "source": [
    "### Musimy wybrać sygnał z której elektrody będziemy analizować. Zobaczmy jak wygląda nasz surowy sygnał "
   ]
  },
  {
   "cell_type": "code",
   "execution_count": null,
   "metadata": {},
   "outputs": [],
   "source": [
    "t = np.linspace(0,len(df)/250,len(df))\n",
    "\n",
    "plt.plot(t,df['Cz'])\n",
    "plt.xlabel('Czas [s]')\n",
    "plt.ylabel('[uV]')"
   ]
  },
  {
   "cell_type": "markdown",
   "metadata": {},
   "source": [
    "### Aby coś zobaczyć, trzeba usunąć zakłócenia z sygnału przy pomocy filtracji. "
   ]
  },
  {
   "cell_type": "code",
   "execution_count": null,
   "metadata": {},
   "outputs": [],
   "source": [
    "przef = ag.gornoprzepustowy(df['Cz'],250,0.1)\n",
    "przef2 = ag.pasmowozaporowy(przef,250,48,52)\n",
    "przef3 = ag.pasmowoprzepustowy(przef2,250,1,40)"
   ]
  },
  {
   "cell_type": "code",
   "execution_count": null,
   "metadata": {},
   "outputs": [],
   "source": [
    "przef3"
   ]
  },
  {
   "cell_type": "code",
   "execution_count": null,
   "metadata": {},
   "outputs": [],
   "source": [
    "plt.plot(t,przef3)\n",
    "plt.xlabel('Czas [s]')\n",
    "plt.ylabel('[uV]')"
   ]
  },
  {
   "cell_type": "markdown",
   "metadata": {},
   "source": [
    "### Proszę zwrócić uwagę na to, że przy szukaniu potencjałów pracujemy na sygnale w dziedzinie czasu (szukamy pików, które wystąpiły *po określonym czasie* od wystąpienia bodźców), dlatego <span style=\"color:red\">**transformacja Fouriera nie będzie nam dzisiaj potrzebna.** </span>"
   ]
  },
  {
   "cell_type": "markdown",
   "metadata": {},
   "source": [
    "### Następnie musimy znaleźć miejsca w czasie (indeksy) kiedy wystąpił bodziec. \n",
    "\n",
    "W kolumnie event pojawiają się flagi, kiedy występowało interesujące nas zdarzenie. Nas interesuje nr 4."
   ]
  },
  {
   "cell_type": "code",
   "execution_count": null,
   "metadata": {},
   "outputs": [],
   "source": [
    "# wyszukujemy indeksy w których pojawia się flaga '4', a wcześniejszy indeks ma flagę '0' \n",
    "poczatki_zdarzen = []\n",
    "for i in range(len(df)):\n",
    "    if df['event'][i]==4 and df['event'][i-1]==0:\n",
    "        poczatki_zdarzen.append(i)"
   ]
  },
  {
   "cell_type": "code",
   "execution_count": null,
   "metadata": {},
   "outputs": [],
   "source": [
    "#sprawdzamy liczbę takich zdarzeń\n",
    "len(poczatki_zdarzen)"
   ]
  },
  {
   "cell_type": "code",
   "execution_count": null,
   "metadata": {},
   "outputs": [],
   "source": [
    "poczatki_zdarzen"
   ]
  },
  {
   "cell_type": "markdown",
   "metadata": {},
   "source": [
    "### Stwórzmy 1-sekundowe wykresy dla naszych zdarzeń"
   ]
  },
  {
   "cell_type": "code",
   "execution_count": null,
   "metadata": {},
   "outputs": [],
   "source": [
    "indeks = poczatki_zdarzen[0]\n",
    "fragment_sygnalu = przef3[indeks:indeks+250]\n",
    "\n",
    "t = np.linspace(0,1,250)\n",
    "plt.plot(t,fragment_sygnalu)"
   ]
  },
  {
   "cell_type": "markdown",
   "metadata": {},
   "source": [
    "### Czasem dla pojedynczych przypadków załamki mogą być niewidoczne. Dlatego uśrednia się sygnał z kilku zdarzeń, żeby wzmocnić szukany efekt. "
   ]
  },
  {
   "cell_type": "code",
   "execution_count": null,
   "metadata": {},
   "outputs": [],
   "source": [
    "sredni_sygnal = np.zeros(250)\n",
    "\n",
    "for i in range(10):\n",
    "    sredni_sygnal += przef3[poczatki_zdarzen[i]:poczatki_zdarzen[i]+250]\n",
    "sredni_sygnal/=10"
   ]
  },
  {
   "cell_type": "code",
   "execution_count": null,
   "metadata": {},
   "outputs": [],
   "source": [
    "t = np.linspace(0,1,250)\n",
    "plt.plot(t,sredni_sygnal)"
   ]
  },
  {
   "cell_type": "code",
   "execution_count": null,
   "metadata": {},
   "outputs": [],
   "source": []
  },
  {
   "cell_type": "markdown",
   "metadata": {},
   "source": [
    "### Dane, które zostały dodatkowo \"oczyszczone\":\n",
    "<img src=\"../images/p300n400.png\" width=\"1000\" align=\"center\">"
   ]
  },
  {
   "cell_type": "markdown",
   "metadata": {},
   "source": [
    "### Dla porównania losowe fragmenty z sygnału"
   ]
  },
  {
   "cell_type": "code",
   "execution_count": null,
   "metadata": {},
   "outputs": [],
   "source": [
    "losowe_indeksy = [68688, 50571, 58788, 95741, 19578, 15622, 95932, 9387, 30013, 93260]\n",
    "\n",
    "# losowanie 10 indeksów\n",
    "# losowe_indeksy = [random.randint(0,len(df)-250) for i in range(10)]\n",
    "\n",
    "suma = np.zeros(250)\n",
    "for indeks in losowe_indeksy:\n",
    "    suma += przef3[indeks:indeks+250]\n",
    "suma/=10\n",
    "\n",
    "t = np.linspace(0,1,250)\n",
    "plt.plot(t,suma)"
   ]
  },
  {
   "cell_type": "code",
   "execution_count": null,
   "metadata": {
    "scrolled": true
   },
   "outputs": [],
   "source": []
  },
  {
   "cell_type": "markdown",
   "metadata": {},
   "source": [
    "### W jaki sposób automatycznie możemy ocenić czy wystąpił N400? "
   ]
  },
  {
   "cell_type": "code",
   "execution_count": null,
   "metadata": {},
   "outputs": [],
   "source": []
  },
  {
   "cell_type": "code",
   "execution_count": null,
   "metadata": {},
   "outputs": [],
   "source": []
  },
  {
   "cell_type": "code",
   "execution_count": null,
   "metadata": {},
   "outputs": [],
   "source": []
  },
  {
   "cell_type": "code",
   "execution_count": null,
   "metadata": {},
   "outputs": [],
   "source": []
  },
  {
   "cell_type": "markdown",
   "metadata": {},
   "source": [
    "###   Zadanie <img src=\"../images/pencil.png\" width=\"20\" align=\"left\">\n",
    "\n",
    "Pobierz plik 'sygnal_zadanie.csv'. Oceń które z podanych niżej indeksów zawierają potencjał wywołany N400. \n"
   ]
  },
  {
   "cell_type": "code",
   "execution_count": null,
   "metadata": {},
   "outputs": [],
   "source": [
    "df = pd.read_csv('sygnal_zadanie.csv')"
   ]
  },
  {
   "cell_type": "code",
   "execution_count": null,
   "metadata": {},
   "outputs": [],
   "source": [
    "indeksy_1 = [6423, 28964, 39804, 61360, 77226, 92327, 101265, 114662, 116682, 123936]\n",
    "indeksy_2 = [938, 13371, 22252, 31128, 54798, 92047, 98816, 102843, 103273, 123659]\n",
    "indeksy_3 = [7262, 19641, 27905, 39668, 41581, 72379, 76208, 86419, 112203, 120647]"
   ]
  },
  {
   "cell_type": "code",
   "execution_count": null,
   "metadata": {},
   "outputs": [],
   "source": []
  },
  {
   "cell_type": "code",
   "execution_count": null,
   "metadata": {},
   "outputs": [],
   "source": []
  },
  {
   "cell_type": "code",
   "execution_count": null,
   "metadata": {},
   "outputs": [],
   "source": []
  },
  {
   "cell_type": "code",
   "execution_count": null,
   "metadata": {},
   "outputs": [],
   "source": []
  }
 ],
 "metadata": {
  "kernelspec": {
   "display_name": "Python 3 (ipykernel)",
   "language": "python",
   "name": "python3"
  },
  "language_info": {
   "codemirror_mode": {
    "name": "ipython",
    "version": 3
   },
   "file_extension": ".py",
   "mimetype": "text/x-python",
   "name": "python",
   "nbconvert_exporter": "python",
   "pygments_lexer": "ipython3",
   "version": "3.8.10"
  }
 },
 "nbformat": 4,
 "nbformat_minor": 2
}
