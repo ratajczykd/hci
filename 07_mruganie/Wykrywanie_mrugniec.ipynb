{
 "cells": [
  {
   "cell_type": "markdown",
   "metadata": {},
   "source": [
    "## Wykrywanie mrugnięć"
   ]
  },
  {
   "cell_type": "code",
   "execution_count": null,
   "metadata": {},
   "outputs": [],
   "source": [
    "import pandas as pd\n",
    "import numpy as np\n",
    "import matplotlib.pyplot as plt"
   ]
  },
  {
   "cell_type": "code",
   "execution_count": null,
   "metadata": {},
   "outputs": [],
   "source": [
    "df = pd.read_csv(\"data2.csv\")"
   ]
  },
  {
   "cell_type": "code",
   "execution_count": null,
   "metadata": {},
   "outputs": [],
   "source": [
    "df"
   ]
  },
  {
   "cell_type": "code",
   "execution_count": null,
   "metadata": {},
   "outputs": [],
   "source": []
  },
  {
   "cell_type": "code",
   "execution_count": null,
   "metadata": {},
   "outputs": [],
   "source": [
    "t = np.linspace(0, len(df['signal'])/250, len(df['signal']))\n",
    "plt.plot(t, df['signal'])"
   ]
  },
  {
   "cell_type": "code",
   "execution_count": null,
   "metadata": {},
   "outputs": [],
   "source": [
    "sygnal = df['signal'][250:]"
   ]
  },
  {
   "cell_type": "code",
   "execution_count": null,
   "metadata": {},
   "outputs": [],
   "source": [
    "t = np.linspace(0, len(sygnal)/250, len(sygnal))\n",
    "plt.plot(t, sygnal)"
   ]
  },
  {
   "cell_type": "code",
   "execution_count": null,
   "metadata": {},
   "outputs": [],
   "source": []
  },
  {
   "cell_type": "code",
   "execution_count": null,
   "metadata": {},
   "outputs": [],
   "source": []
  },
  {
   "cell_type": "markdown",
   "metadata": {},
   "source": [
    "## Zapisywanie informacji o czasie"
   ]
  },
  {
   "cell_type": "code",
   "execution_count": null,
   "metadata": {},
   "outputs": [],
   "source": [
    "import time"
   ]
  },
  {
   "cell_type": "markdown",
   "metadata": {},
   "source": [
    "time.time() - zwraca liczbę sekund, która upłynęła od początku 1970 roku (czas uniksowy); przydane do synchronizacji zadań"
   ]
  },
  {
   "cell_type": "code",
   "execution_count": null,
   "metadata": {},
   "outputs": [],
   "source": [
    "litera = 'A'\n",
    "with open(\"litery_czas.txt\", \"a\") as myfile:\n",
    "    myfile.write(litera + ', ' + str(time.time()) + '\\n')"
   ]
  },
  {
   "cell_type": "markdown",
   "metadata": {},
   "source": [
    "# Gra dino"
   ]
  },
  {
   "cell_type": "markdown",
   "metadata": {},
   "source": [
    "## Aby uruchomić grę należy: \n",
    "(działa tylko na Linuxie)\n",
    "\n",
    "1. Pobrać repozyturium i w konsoli przenieść się do folderu *OpenBCI*\n",
    "2. Zainstalować potrzebne paczki: \n",
    "- pip install pygame\n",
    "- sudo apt-get install python3-pip libglib2.0-dev\n",
    "- pip install bluepy\n",
    "- pip install pyOpenBCI\n",
    "- (mv ~/anaconda3/lib/libstdc++.so.6 ~/libstdc++.so.6)\n",
    "2. Umieścić dongle'a dołączonego do płytki Ganglion w porcie USB. \n",
    "3. Podmienić adres mac używanego Ganglionu (zmienna *mac_adress*) w pliku *dino.py*.\n",
    "4. Zamontować elektrody - jedna na czole do złącza nr 1, dwie na uszach do złącz REF i D_G.\n",
    "5. Włączyć płytkę Gangion. \n",
    "6. Włączyć grę komendą *python3 dino.py*. "
   ]
  },
  {
   "cell_type": "code",
   "execution_count": null,
   "metadata": {},
   "outputs": [],
   "source": []
  },
  {
   "cell_type": "code",
   "execution_count": null,
   "metadata": {},
   "outputs": [],
   "source": []
  }
 ],
 "metadata": {
  "kernelspec": {
   "display_name": "Python 3 (ipykernel)",
   "language": "python",
   "name": "python3"
  },
  "language_info": {
   "codemirror_mode": {
    "name": "ipython",
    "version": 3
   },
   "file_extension": ".py",
   "mimetype": "text/x-python",
   "name": "python",
   "nbconvert_exporter": "python",
   "pygments_lexer": "ipython3",
   "version": "3.8.10"
  }
 },
 "nbformat": 4,
 "nbformat_minor": 2
}
