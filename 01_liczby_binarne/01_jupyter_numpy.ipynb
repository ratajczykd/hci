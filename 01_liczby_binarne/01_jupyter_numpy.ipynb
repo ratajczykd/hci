{
 "cells": [
  {
   "cell_type": "markdown",
   "id": "b5b73414",
   "metadata": {},
   "source": [
    "# Jupyter Notebook"
   ]
  },
  {
   "cell_type": "markdown",
   "id": "115136ed",
   "metadata": {},
   "source": [
    "**Możliwe działania**:\n",
    "\n",
    "-\t*uruchamianie kodu*: ikonka `▶` przy komórce / ikonka „Run” (na górze) / skrót klawiszowy `Shift + Enter` lub `Ctrl + Enter` (bez przejścia do kolejnego chunka)\n",
    "-\t*utworzenie nowej komórki*: ikonka `+` / skrót klawiszowy `b`\n",
    "(kursor poza komórką – tryb poleceń (niebieska ramka komórki), a nie edycji (zielona); przejście do trybu poleceń poprzez kliknięcie poza pole komórki, ale nie za komórkę lub za pomocą skrótu klawiszowego `Esc`)\n",
    "-\t*zamiana typu komórki na komórkę z tekstem*: zmiana `Code` na `Markdown` / skrót klawiszowy `m`\n",
    "-\t*zamiana typu komórki na komórkę z kodem*: zmiana `Markdown` na `Code` / skrót klawiszowy `y`\n",
    "-\t*podzielenie komórki na dwie części*: `Ctrl + Shift + -`\n",
    "-\t*usunięcie komórki (jako wytnij/cut)*: ikonka `✂` / skrót klawiszowy `x`\n",
    "-\t*cofnięcie usunięcia komórki*: skrót klawiszowy `z`\n",
    "-\t*zmiana kolejności komórek*: ikonki `↑`, `↓`\n",
    "-\t*wyświetlenie informacji o funkcji*: skrót klawiszowy `Shift + Tab`\n",
    "-\t*lista pozostałych funkcji*: `Open the command palette`\n",
    "-\t*nowy plik*: np. w pliku `File` → `New Notebook` lub w folderze `New` → `Python 3`\n",
    "\n",
    "\n",
    "**Ważne**:\n",
    "\n",
    " Komórki można uruchamiać w różnej kolejności.\n",
    " \n",
    " Wszystkie zmienne wczytane od pierwszego uruchomienia znajdują się w pamięci tzw. kernela.\n",
    " \n",
    " Do wyświetlenia zawartości ostatniej linii komórki nie potrzeba polecenia print, ale przy potrzebie wyświetlenia kilku linii komórki jest ono konieczne."
   ]
  },
  {
   "cell_type": "markdown",
   "id": "451c1fd7",
   "metadata": {},
   "source": [
    "## Ćwiczenie"
   ]
  },
  {
   "cell_type": "code",
   "execution_count": null,
   "id": "e6becfe7",
   "metadata": {},
   "outputs": [],
   "source": [
    "'Hello world!', 2 + 3     # Uruchom komórkę."
   ]
  },
  {
   "cell_type": "markdown",
   "id": "8e5a5708",
   "metadata": {},
   "source": [
    "Uruchom tę komórkę, a poniżej dodaj komórkę z kodem oraz komórkę z tekstem."
   ]
  },
  {
   "cell_type": "markdown",
   "id": "361c7068",
   "metadata": {},
   "source": [
    "Usuń tę komórkę."
   ]
  },
  {
   "cell_type": "markdown",
   "id": "e834699e",
   "metadata": {},
   "source": [
    "Tę też usuń."
   ]
  },
  {
   "cell_type": "markdown",
   "id": "f6aac395",
   "metadata": {},
   "source": [
    "Przywróć ostatnią usuniętą komórkę."
   ]
  },
  {
   "cell_type": "markdown",
   "id": "08150075",
   "metadata": {},
   "source": [
    "Zamień kolejnością tą komórkę z poprzednią."
   ]
  },
  {
   "cell_type": "markdown",
   "id": "378824c9",
   "metadata": {},
   "source": [
    "## Podstawy Markdowna"
   ]
  },
  {
   "cell_type": "markdown",
   "id": "517fd4fe",
   "metadata": {},
   "source": [
    "-\tnowa linia (`\\` na końcu poprzedniej linii)\n",
    "-\tnowy akapit (pusta linia przed)\n",
    "-\tnagłówki (1. poziom: `#` przed tekstem nagłówka lub podkreślenie tekstu nagłówka przez `=` w kolejnej linii, 2. poziom: `##` lub podkreślenie przez `-`)\n",
    "-\tpogrubienie (`**`)\n",
    "-\tkursywa (`*`)\n",
    "-\tlista numerowana (`1. … 2. … 3. …` w kolejnych liniach)\n",
    "-\tlista nienumerowana (`- … - … - …` w kolejnych liniach)\n"
   ]
  },
  {
   "cell_type": "markdown",
   "id": "0e7ba210",
   "metadata": {},
   "source": [
    "## Nieco szerzej o podstawach Markdowna"
   ]
  },
  {
   "cell_type": "markdown",
   "id": "f77f4c1f",
   "metadata": {},
   "source": [
    "Nowy wiersz w markdownie można utworzyć przez backslash \\\n",
    "lub dwie  \n",
    "spacje.\n",
    "\n",
    "Nowy akapit tworzymy pozostawiając pusty wiersz.\n",
    "\n",
    "  Domyślnie akapity nie posiadają wcięcia, nawet jeśli użyjemy tabulacji.\n",
    "\n",
    "W taki sposób robimy w markdownie:\n",
    "\n",
    "*kursywę*,          _też kursywę_, \\\n",
    "**pogrubienie**,    __też pogrubienie__, \\\n",
    "~~przekreślenie~~.\n",
    "\n",
    "> Gdy chcemy wyróżnić jakiś tekst,\n",
    ">\n",
    "> możemy go wyeksponować przez znak \">\".\n",
    "\n",
    "Trzy kreski \n",
    "\n",
    "---\n",
    "\n",
    "lub trzy gwiazdki\n",
    "\n",
    "***\n",
    "\n",
    "albo trzy podkreślenia\n",
    "\n",
    "___\n",
    "\n",
    "pozwalają zrobić poziomą linię.\n",
    "\n",
    "---"
   ]
  },
  {
   "cell_type": "markdown",
   "id": "63fdb3eb",
   "metadata": {},
   "source": [
    "Rozdział 1\n",
    "===========\n",
    "\n",
    "Podkreślenie znakami \"=\" daje nagłówek najwyższego poziomu.\n",
    "\n",
    "Podrozdział 1.1\n",
    "----------------\n",
    "\n",
    "Podkreślenie znakami \"-\" daje nagłówek niższego poziomu.\n",
    "\n",
    "Podrozdział 1.2\n",
    "----------------\n",
    "\n",
    "[Jakiś tekst.]\n",
    "\n",
    "\n",
    "# Rozdział 2\n",
    "\n",
    "Jeden znak \"#\" daje ten efekt co \"=\" - nagłówek najwyższego poziomu.\n",
    "\n",
    "## Podrozdział 2.1\n",
    "\n",
    "Dwa znaki \"#\" dają ten efekt co \"-\" - nagłówek niższego poziomu.\n",
    "\n",
    "### Podpodrozdział 2.1.1\n",
    " \n",
    "Trzy znaki \"#\" pozwalają na nagłówek jeszcze niższego poziomu.\\\n",
    "liczba znaków \"#\" = poziom zagłębienia nagłówka (nie jego rozmiar)\n",
    " \n",
    "### Podpodrozdział 2.1.2\n",
    "\n",
    "Nagłówki wykonane przez znaki \"=\" i \"-\" oraz przez znak \"#\" można bez problemu łączyć.\n",
    "\n",
    "---"
   ]
  },
  {
   "cell_type": "markdown",
   "id": "100673ac",
   "metadata": {},
   "source": [
    "### Elementy do dodania\n",
    "\n",
    "**Lista numerowana**\n",
    "\n",
    "1. dodajemy\n",
    "1. wypisując\n",
    "4. kolejne\n",
    "3. liczby\n",
    "\n",
    "**Lista nienumerowana**\n",
    "\n",
    "- dodajemy\n",
    "  + poprzez\n",
    "+ znaki takie jak:\n",
    "  - myślniki\n",
    "  + plusy\n",
    "  * i gwiazdki\n",
    "- oraz\n",
    "  * odpowiednią\n",
    "      * do poziomu\n",
    "        * liczbę\n",
    "  * tabulacji\n",
    "\n",
    "Możemy\n",
    "\n",
    "1. łączyć\n",
    "    - oba\n",
    "      * typy\n",
    "2. list\n",
    "\n",
    "\n",
    "Myślniki (\"-\") oraz pionowe linie (\"|\") pozwalają na\n",
    "\n",
    "| utworzenie | tabelki. |\n",
    "|------------|----------|\n",
    "| komórka    | komórka  |\n",
    "| komórka    | komórka  |\n",
    "\n",
    "\n",
    "Możemy też dodać tekst sformatowany jako kod, np. **pseudokod**. Pozwala na to \n",
    "\n",
    "    wcięcie\n",
    "    z dwoma\n",
    "    tabulacjami.\n",
    "    \n",
    "Będzie on jedynie sformatowany jako kod, więc nie będzie wykonywał się podczas kompilacji pliku.\n",
    "    \n",
    "Taki sam efekt uzyskamy umieszczając treść pomiędzy\n",
    "\n",
    "```\n",
    "trzema backtickami\n",
    "z obu stron.\n",
    "```\n",
    "\n",
    "Pojedynczy `backtick` z obu stron pozwala na umieszczenie kodu w wierszu, pomiędzy tekstem."
   ]
  },
  {
   "cell_type": "markdown",
   "id": "43911794",
   "metadata": {},
   "source": [
    "# NumPy"
   ]
  },
  {
   "cell_type": "markdown",
   "id": "d653e053",
   "metadata": {},
   "source": [
    "NumPy (**Num**erical **Py**thon) – biblioteka do operacji na tablicach liczbowych różnego wymiaru (macierzy wielowymiarowych), wykorzystywanych często w obliczeniach inżynierskich.\n",
    "\n",
    "NumPy dostarcza listy „ulepszone” pod względem dostępnych możliwości, szybkości operacji i wydajności przechowywania, co ułatwia bardziej złożone obliczenia. "
   ]
  },
  {
   "cell_type": "markdown",
   "id": "ce2f9a68",
   "metadata": {},
   "source": [
    "Instalacja biblioteki - w wierszu poleceń:\n",
    "\n",
    "```\n",
    "   pip install numpy\n",
    "```"
   ]
  },
  {
   "cell_type": "markdown",
   "id": "9ee7f628",
   "metadata": {},
   "source": [
    "lub w Jupyterze:"
   ]
  },
  {
   "cell_type": "code",
   "execution_count": null,
   "id": "7a3e89c0",
   "metadata": {
    "scrolled": true
   },
   "outputs": [],
   "source": [
    "%pip install numpy"
   ]
  },
  {
   "cell_type": "markdown",
   "id": "adc880b9",
   "metadata": {},
   "source": [
    "## Lista vs Numpy.array"
   ]
  },
  {
   "cell_type": "markdown",
   "id": "f3775e32",
   "metadata": {},
   "source": [
    "### Macierz jednowymiarowa"
   ]
  },
  {
   "cell_type": "code",
   "execution_count": null,
   "id": "d468972f",
   "metadata": {},
   "outputs": [],
   "source": [
    "print([5, 2, 7, 1])               # lista w bibliotece base (wbudowanego)"
   ]
  },
  {
   "cell_type": "code",
   "execution_count": null,
   "id": "1c0080c1",
   "metadata": {},
   "outputs": [],
   "source": [
    "import numpy as np                # załadowanie biblioteki\n",
    "\n",
    "print(np.array([5, 2, 7, 1]))     # lista w bibliotece numpy "
   ]
  },
  {
   "cell_type": "code",
   "execution_count": null,
   "id": "33aee0b8",
   "metadata": {},
   "outputs": [],
   "source": [
    "lista = [5, 2, 7, 1]  \n",
    "\n",
    "print(type(lista))\n",
    "print(type(np.array(lista)))"
   ]
  },
  {
   "cell_type": "code",
   "execution_count": null,
   "id": "d45f06a2",
   "metadata": {},
   "outputs": [],
   "source": [
    "lista = [5, 'a', 7, 1]  \n",
    "\n",
    "print(lista)\n",
    "print(np.array(lista))            # zmiana int->str - numpy.array nie może składać się z elementów różnego typu!"
   ]
  },
  {
   "cell_type": "markdown",
   "id": "4b370b52",
   "metadata": {},
   "source": [
    "### Macierz dwuwymiarowa"
   ]
  },
  {
   "cell_type": "code",
   "execution_count": null,
   "id": "b9b7d60d",
   "metadata": {},
   "outputs": [],
   "source": [
    "print([[6, 4,  18],                # tablica w bibliotece base\n",
    "       [3, 27, 8]])"
   ]
  },
  {
   "cell_type": "code",
   "execution_count": null,
   "id": "965639c1",
   "metadata": {},
   "outputs": [],
   "source": [
    "print(np.array([[6, 4,  18],\n",
    "                [3, 27, 8]]))      # tablica w bibliotece numpy "
   ]
  },
  {
   "cell_type": "code",
   "execution_count": null,
   "id": "2f2c7fa0",
   "metadata": {},
   "outputs": [],
   "source": [
    "tablica = [[6, 4,  18],\n",
    "           [3, 27, 8]]\n",
    "\n",
    "print(len(tablica))\n",
    "print(np.array(tablica).shape)"
   ]
  },
  {
   "cell_type": "code",
   "execution_count": null,
   "id": "758ccddb",
   "metadata": {},
   "outputs": [],
   "source": [
    "tablica = [[6, 4,  18],\n",
    "           [3, 27]]\n",
    "\n",
    "print(tablica)\n",
    "print(np.array(tablica))           # numpy.array musi mieć wszystkie rzędy i kolumny tej samej długości!"
   ]
  },
  {
   "cell_type": "markdown",
   "id": "d1bb9dc7",
   "metadata": {},
   "source": [
    "### Macierz wielowymiarowa"
   ]
  },
  {
   "cell_type": "code",
   "execution_count": null,
   "id": "16dab85d",
   "metadata": {},
   "outputs": [],
   "source": [
    "tablica = [[[0, 6], [8, 7],  [8, 1]],\n",
    "           [[2, 2], [7, 4],  [1, 3]]]\n",
    "\n",
    "print(tablica)\n",
    "print(np.array(tablica))"
   ]
  },
  {
   "cell_type": "code",
   "execution_count": null,
   "id": "a03e8a7a",
   "metadata": {},
   "outputs": [],
   "source": [
    "print(len(tablica))\n",
    "print(np.array(tablica).shape)"
   ]
  },
  {
   "cell_type": "markdown",
   "id": "99908050",
   "metadata": {},
   "source": [
    "### Ustalenie typu elementów macierzy"
   ]
  },
  {
   "cell_type": "code",
   "execution_count": null,
   "id": "f58bd446",
   "metadata": {},
   "outputs": [],
   "source": [
    "lista = [5, 2, 7, 1] \n",
    "\n",
    "print(lista)\n",
    "print(np.array(lista))\n",
    "print(np.array(lista, dtype = np.float32))\n",
    "print()\n",
    "print(type(lista[0]))\n",
    "print(np.array(lista).dtype)                   # liczby całkowite   / zmienna ilościowa dyskretna\n",
    "print(np.array(lista, dtype = float).dtype)    # liczby rzeczywiste / zmienna ilościowa ciągła"
   ]
  },
  {
   "cell_type": "code",
   "execution_count": null,
   "id": "acc9033b",
   "metadata": {
    "scrolled": true
   },
   "outputs": [],
   "source": [
    "print(np.array(lista, dtype = 'int16'))        # różnica niewidoczna, ale jest ona w dokładności liczby zapisanej w pamięci (liczbie bitów, na których jest zapisana)\n",
    "print(np.array(lista, dtype = 'int32'))\n",
    "print(np.array(lista, dtype = 'int64'))\n",
    "\n",
    "print(np.array(lista, dtype = 'float16'))\n",
    "print(np.array(lista, dtype = 'float32'))\n",
    "print(np.array(lista, dtype = 'float64'))"
   ]
  },
  {
   "cell_type": "markdown",
   "id": "7576f165",
   "metadata": {},
   "source": [
    "## Operacje na Numpy.array"
   ]
  },
  {
   "cell_type": "markdown",
   "id": "b8ea4014",
   "metadata": {},
   "source": [
    "### Operacje na listach\n"
   ]
  },
  {
   "cell_type": "markdown",
   "id": "2ec3f5f9",
   "metadata": {},
   "source": [
    "Wykonywanie operacji na obiektach numpy.array polega na wykonywania ich na odpowiadających sobie elementach tych obiektów. \\\n",
    "Muszą więc być one tych samych wymiarów."
   ]
  },
  {
   "cell_type": "code",
   "execution_count": null,
   "id": "0d692c81",
   "metadata": {},
   "outputs": [],
   "source": [
    "lista1 = [1, 2, 3]\n",
    "lista2 = [2, 3, 4]\n",
    "nmp_lista1 = np.array(lista1)\n",
    "nmp_lista2 = np.array(lista2)\n",
    "\n",
    "print(nmp_lista1 + nmp_lista2)\n",
    "print(nmp_lista1 - nmp_lista2)\n",
    "print(nmp_lista1 * nmp_lista2)\n",
    "print(nmp_lista1 ** nmp_lista2)"
   ]
  },
  {
   "cell_type": "code",
   "execution_count": null,
   "id": "40bb573b",
   "metadata": {},
   "outputs": [],
   "source": [
    "print(lista1 + lista2)                              # inne działanie dla list - konkatenacja list\n",
    "print(lista1 * lista2)                              # brak działania dla list"
   ]
  },
  {
   "cell_type": "code",
   "execution_count": null,
   "id": "29a12b3e",
   "metadata": {},
   "outputs": [],
   "source": [
    "print([l1 + l2 for l1, l2 in zip(lista1, lista2)])  # działające dla list, ale dłuższe\n",
    "print([l1 * l2 for l1, l2 in zip(lista1, lista2)])"
   ]
  },
  {
   "cell_type": "markdown",
   "id": "9905ec31",
   "metadata": {},
   "source": [
    "### Operacje na tablicach"
   ]
  },
  {
   "cell_type": "code",
   "execution_count": null,
   "id": "2a1c20bc",
   "metadata": {},
   "outputs": [],
   "source": [
    "nmp_tablica1 = np.array([[6, 4,  18],\n",
    "                         [3, 27, 8]])\n",
    "nmp_tablica2 = np.array([[7, 1, 5],\n",
    "                         [9, 3, 8]])\n",
    "\n",
    "print(nmp_tablica1 + nmp_tablica2)\n",
    "print(nmp_tablica1 - nmp_tablica2)\n",
    "print(nmp_tablica1 * nmp_tablica2)\n",
    "print(nmp_tablica1 ** nmp_tablica2)"
   ]
  },
  {
   "cell_type": "markdown",
   "id": "3bb6c2e6",
   "metadata": {},
   "source": [
    "### Mnożenie macierzy"
   ]
  },
  {
   "cell_type": "markdown",
   "id": "83a276b3",
   "metadata": {},
   "source": [
    "Uwaga! W przypadku list operacje dodawania, odejmowania i mnożenia zgadzają się z matematycznymi operacjami na wektorach, ale w przypadku tablic, matematyczne mnożenie macierzy oznacza co innego!"
   ]
  },
  {
   "cell_type": "code",
   "execution_count": null,
   "id": "de697f96",
   "metadata": {},
   "outputs": [],
   "source": [
    "nmp_macierz1 = np.array([[6, 4],\n",
    "                         [3, 27]])\n",
    "nmp_macierz2 = np.array([[7, 1],\n",
    "                         [9, 3]])\n",
    "\n",
    "print(nmp_macierz1 @ nmp_macierz2)        # co innego!"
   ]
  },
  {
   "cell_type": "markdown",
   "id": "37bf4f37",
   "metadata": {},
   "source": [
    "### Broadcasting"
   ]
  },
  {
   "cell_type": "markdown",
   "id": "cc8f29b9",
   "metadata": {},
   "source": [
    "Broadcasting to wykonanie operacji na liczbie i obiekcie numpy.array, co polega na wykonaniu jej dla każdego elementu tego obiektu i tej liczby."
   ]
  },
  {
   "cell_type": "code",
   "execution_count": null,
   "id": "aa24468f",
   "metadata": {},
   "outputs": [],
   "source": [
    "print(nmp_lista1)\n",
    "print(nmp_lista1 + 2)\n",
    "print(nmp_lista1 - 2)\n",
    "print(nmp_lista1 * 2)\n",
    "print(nmp_lista1 ** 2)"
   ]
  },
  {
   "cell_type": "code",
   "execution_count": null,
   "id": "cc900bf9",
   "metadata": {},
   "outputs": [],
   "source": [
    "print(nmp_tablica1)\n",
    "print(nmp_tablica1 + 2)\n",
    "print(nmp_tablica1 - 2)\n",
    "print(nmp_tablica1 * 2)\n",
    "print(nmp_tablica1 ** 2)"
   ]
  },
  {
   "cell_type": "code",
   "execution_count": null,
   "id": "ebc941af",
   "metadata": {},
   "outputs": [],
   "source": [
    "print(nmp_tablica1)\n",
    "print(nmp_tablica1 + np.array([[2, 2, 2],     # to samo!\n",
    "                               [2, 2, 2]])) \n",
    "print(nmp_tablica1 - np.array([[2, 2, 2],    \n",
    "                               [2, 2, 2]])) \n",
    "print(nmp_tablica1 * np.array([[2, 2, 2],     \n",
    "                               [2, 2, 2]])) \n",
    "print(nmp_tablica1 ** np.array([[2, 2, 2],     \n",
    "                                [2, 2, 2]])) "
   ]
  },
  {
   "cell_type": "markdown",
   "id": "9f622ce0",
   "metadata": {},
   "source": [
    "Można to rozszerzyć:"
   ]
  },
  {
   "cell_type": "code",
   "execution_count": null,
   "id": "3c9b7d48",
   "metadata": {},
   "outputs": [],
   "source": [
    "print(nmp_tablica1)\n",
    "print(nmp_tablica1 + np.array([[2],\n",
    "                               [4]])) \n",
    "print(nmp_tablica1 + np.array([[2, 2, 2],     # to samo!\n",
    "                               [4, 4, 4]]))"
   ]
  },
  {
   "cell_type": "markdown",
   "id": "ac6aa247",
   "metadata": {},
   "source": [
    "### Konkatenacja"
   ]
  },
  {
   "cell_type": "code",
   "execution_count": null,
   "id": "8456e1fc",
   "metadata": {},
   "outputs": [],
   "source": [
    "nmp_tablica1 = np.array([[1, 2, 3],\n",
    "                         [4, 5, 6]])\n",
    "nmp_tablica2 = np.array([[7,  8,  9],\n",
    "                         [10, 11, 12]])\n",
    "nmp_tablica3 = np.array([[13, 14, 15],\n",
    "                         [16, 17, 18]])\n",
    "\n",
    "wide_tablica = np.hstack([nmp_tablica1, nmp_tablica2, nmp_tablica3])\n",
    "long_tablica = np.vstack([nmp_tablica1, nmp_tablica2, nmp_tablica3])\n",
    "print(wide_tablica)\n",
    "print(long_tablica)"
   ]
  },
  {
   "cell_type": "markdown",
   "id": "382f8e02",
   "metadata": {},
   "source": [
    "**Modyfikacja wymiaru tablicy**:"
   ]
  },
  {
   "cell_type": "code",
   "execution_count": null,
   "id": "ec7a3307",
   "metadata": {},
   "outputs": [],
   "source": [
    "print(wide_tablica.reshape(3, 6))\n",
    "print(long_tablica.reshape(3, 6))"
   ]
  },
  {
   "cell_type": "markdown",
   "id": "fcaf1da8",
   "metadata": {},
   "source": [
    "## Indeksowanie i slicing"
   ]
  },
  {
   "cell_type": "markdown",
   "id": "a4dd3191",
   "metadata": {},
   "source": [
    "### Indeksowanie na listach"
   ]
  },
  {
   "cell_type": "code",
   "execution_count": null,
   "id": "633c0a4c",
   "metadata": {},
   "outputs": [],
   "source": [
    "lista = [5, 3, 6, 2, 4]\n",
    "nmp_lista = np.array(lista)\n",
    "\n",
    "print(lista[1])\n",
    "print(nmp_lista[1])\n",
    "\n",
    "print(lista[-2])\n",
    "print(nmp_lista[-2])"
   ]
  },
  {
   "cell_type": "code",
   "execution_count": null,
   "id": "5cde023e",
   "metadata": {
    "scrolled": true
   },
   "outputs": [],
   "source": [
    "print(type(lista[1]))\n",
    "print(type(nmp_lista[1]))"
   ]
  },
  {
   "cell_type": "markdown",
   "id": "77570854",
   "metadata": {},
   "source": [
    "### Slicing na listach"
   ]
  },
  {
   "cell_type": "code",
   "execution_count": null,
   "id": "7cd77e4a",
   "metadata": {},
   "outputs": [],
   "source": [
    "lista = [5, 3, 6, 2, 4]\n",
    "\n",
    "print(lista[1:4])\n",
    "print(nmp_lista[1:4])\n",
    "\n",
    "print(lista[-3:-1])\n",
    "print(nmp_lista[-3:-1])\n",
    "\n",
    "print(lista[1:])\n",
    "print(nmp_lista[1:])\n",
    "\n",
    "print(lista[:4])\n",
    "print(nmp_lista[:4])\n",
    "\n",
    "print(lista[:])\n",
    "print(nmp_lista[:])"
   ]
  },
  {
   "cell_type": "code",
   "execution_count": null,
   "id": "86a4c362",
   "metadata": {},
   "outputs": [],
   "source": [
    "print(type(lista[1:4]))\n",
    "print(type(nmp_lista[1:4]))"
   ]
  },
  {
   "cell_type": "markdown",
   "id": "4d2e828f",
   "metadata": {},
   "source": [
    "### Indeksowanie i slicing na tablicach"
   ]
  },
  {
   "cell_type": "markdown",
   "id": "bdade0ce",
   "metadata": {},
   "source": [
    "**Indeksowanie**"
   ]
  },
  {
   "cell_type": "code",
   "execution_count": null,
   "id": "3db6ed5a",
   "metadata": {},
   "outputs": [],
   "source": [
    "tablica = [[6, 4,  18, 3,  2],\n",
    "           [3, 27, 8,  10, 0],\n",
    "           [1, 9,  5,  7,  6]]\n",
    "nmp_tablica = np.array(tablica)\n",
    "\n",
    "print(tablica[1][2])\n",
    "print(nmp_tablica[1, 2])\n",
    "\n",
    "print(tablica[1][-2])\n",
    "print(nmp_tablica[1, -2])"
   ]
  },
  {
   "cell_type": "markdown",
   "id": "96ea31e3",
   "metadata": {},
   "source": [
    "**Slicing**"
   ]
  },
  {
   "cell_type": "code",
   "execution_count": null,
   "id": "e3d83a9d",
   "metadata": {},
   "outputs": [],
   "source": [
    "print(tablica[1:])\n",
    "print(tablica[1:][2:])           # nie zadziała!\n",
    "print(nmp_tablica[1:, 2:])"
   ]
  },
  {
   "cell_type": "code",
   "execution_count": null,
   "id": "5052cd06",
   "metadata": {},
   "outputs": [],
   "source": [
    "print(tablica[:2])\n",
    "print(tablica[:2][:-2])          # nie zadziała!\n",
    "print(nmp_tablica[:2, :-2])"
   ]
  },
  {
   "cell_type": "markdown",
   "id": "70aa16cd",
   "metadata": {},
   "source": [
    "---\n",
    "\n",
    "### Ćwiczenia"
   ]
  },
  {
   "cell_type": "markdown",
   "id": "963d0fc2",
   "metadata": {},
   "source": [
    "1. Utwórz listę numpy.array składającą się z sześcianów kolejnych cyfr (0-9)."
   ]
  },
  {
   "cell_type": "code",
   "execution_count": null,
   "id": "e26aab7f",
   "metadata": {},
   "outputs": [],
   "source": []
  },
  {
   "cell_type": "markdown",
   "id": "576a9c14",
   "metadata": {},
   "source": [
    "2. Przy pomocy slicingu, wybierz z poniższej tablicy cyfry 5, 6, 8, 9."
   ]
  },
  {
   "cell_type": "code",
   "execution_count": null,
   "id": "edb3cdb7",
   "metadata": {},
   "outputs": [],
   "source": [
    "nmp_tablica = np.array([[1, 2, 3],\n",
    "                        [4, 5, 6],\n",
    "                        [7, 8, 9]])\n",
    "\n"
   ]
  },
  {
   "cell_type": "code",
   "execution_count": null,
   "id": "d8b485ea",
   "metadata": {},
   "outputs": [],
   "source": []
  },
  {
   "cell_type": "markdown",
   "id": "46213c20",
   "metadata": {},
   "source": [
    "3. Przy pomocy slicingu, wybierz z poniższej tablicy cyfry 6, 7, 10, 11."
   ]
  },
  {
   "cell_type": "code",
   "execution_count": null,
   "id": "d567d5dd",
   "metadata": {},
   "outputs": [],
   "source": [
    "nmp_tablica2 = np.array([[1, 2,  3,  4],\n",
    "                         [5, 6,  7,  8],\n",
    "                         [9, 10, 11, 12]])\n",
    "\n"
   ]
  },
  {
   "cell_type": "code",
   "execution_count": null,
   "id": "127f0f36",
   "metadata": {},
   "outputs": [],
   "source": []
  },
  {
   "cell_type": "markdown",
   "id": "2b26e0b3",
   "metadata": {},
   "source": [
    "---\n",
    "\n",
    "## Filtrowanie"
   ]
  },
  {
   "cell_type": "markdown",
   "id": "8df09e9f",
   "metadata": {},
   "source": [
    "### Operacje logiczne na Numpy.array\n",
    "\n",
    "Funkcje logiczne:\n",
    "\n",
    "- == - równa się\n",
    "- != - nie równa się\n",
    "- $>$ - większe\n",
    "- $<$ - mniejsze\n",
    "- $>$= - większe równe\n",
    "- $<$= - mniejsze równe\n",
    "- ~  - negacja\n",
    "- &  - koniunkcja\n",
    "- |  - alternatywa"
   ]
  },
  {
   "cell_type": "code",
   "execution_count": null,
   "id": "074e8693",
   "metadata": {},
   "outputs": [],
   "source": [
    "nmp_lista1 = np.array([5, 3, 6, 2, 4])\n",
    "nmp_lista2 = np.array([5, 3, 4, 2, 1])\n",
    "nmp_lista3 = np.array([1, 2, 3, 4, 5])\n",
    "\n",
    "print(nmp_lista1 == nmp_lista2)\n",
    "print(nmp_lista1 != nmp_lista2)\n",
    "print(nmp_lista1 > nmp_lista3)\n",
    "print(nmp_lista1 >= 3)\n",
    "print((nmp_lista1 >= 3) & (nmp_lista1 < 5))"
   ]
  },
  {
   "cell_type": "code",
   "execution_count": null,
   "id": "e03e6596",
   "metadata": {},
   "outputs": [],
   "source": [
    "lista1 = [5, 3, 6, 2, 4]\n",
    "lista2 = [5, 3, 5, 4, 5]\n",
    "lista3 = [5, 3, 7, 4, 5]\n",
    "\n",
    "print(lista1 > lista2)        # inne działanie dla list! - porównanie podobne do porównania 2 liczb\n",
    "print(lista1 > lista3)\n",
    "print(lista1 > 3)             # brak działania dla list"
   ]
  },
  {
   "cell_type": "markdown",
   "id": "1dc591b5",
   "metadata": {},
   "source": [
    "### Filtrowanie"
   ]
  },
  {
   "cell_type": "markdown",
   "id": "8694e5fc",
   "metadata": {},
   "source": [
    "**filtrowanie** - slicing przy pomocy listy wartości logicznych przypisanych do kolejnych indeksów\n",
    "\n",
    "`True` - wybranie elementu \\\n",
    "`False` - niewybranie elementu"
   ]
  },
  {
   "cell_type": "code",
   "execution_count": null,
   "id": "801fa743",
   "metadata": {},
   "outputs": [],
   "source": [
    "print(nmp_lista1)\n",
    "print(nmp_lista1 > 3)\n",
    "print(nmp_lista1[nmp_lista1 > 3])"
   ]
  },
  {
   "cell_type": "markdown",
   "id": "f382b694",
   "metadata": {},
   "source": [
    "## Modyfikacja"
   ]
  },
  {
   "cell_type": "code",
   "execution_count": null,
   "id": "bdf56693",
   "metadata": {},
   "outputs": [],
   "source": [
    "nmp_lista = np.array([5, 3, 6, 2, 4])\n",
    "print(nmp_lista)\n",
    "\n",
    "nmp_lista[1] = -44\n",
    "nmp_lista[3:] = 99\n",
    "\n",
    "print(nmp_lista)"
   ]
  },
  {
   "cell_type": "code",
   "execution_count": null,
   "id": "5f2370f3",
   "metadata": {},
   "outputs": [],
   "source": [
    "nmp_lista[(nmp_lista >= 1) & (nmp_lista < 10)] = 11\n",
    "\n",
    "print(nmp_lista)"
   ]
  },
  {
   "cell_type": "markdown",
   "id": "668d5d2b",
   "metadata": {},
   "source": [
    "## Utworzenie kopii"
   ]
  },
  {
   "cell_type": "code",
   "execution_count": null,
   "id": "fa27005e",
   "metadata": {},
   "outputs": [],
   "source": [
    "lista1 = [5, 3, 6, 2, 4]\n",
    "lista2 = lista1\n",
    "lista3 = lista1[:]\n",
    "\n",
    "lista1[1] = 99\n",
    "\n",
    "print(lista1)\n",
    "print(lista2)    # nie działa!\n",
    "print(lista3)    # działa "
   ]
  },
  {
   "cell_type": "code",
   "execution_count": null,
   "id": "e1ab4d7c",
   "metadata": {},
   "outputs": [],
   "source": [
    "nmp_lista1 = np.array([5, 3, 6, 2, 4])\n",
    "nmp_lista2 = nmp_lista1\n",
    "nmp_lista3 = nmp_lista1[:]\n",
    "nmp_lista4 = nmp_lista1.copy()           # funkcja kopiująca\n",
    "\n",
    "nmp_lista1[1] = 99\n",
    "\n",
    "print(nmp_lista1)     \n",
    "print(nmp_lista2)     # nie działa!\n",
    "print(nmp_lista3)     # nie działa!\n",
    "print(nmp_lista4) "
   ]
  },
  {
   "cell_type": "markdown",
   "id": "28878e5c",
   "metadata": {},
   "source": [
    "---\n",
    "\n",
    "### Ćwiczenie"
   ]
  },
  {
   "cell_type": "markdown",
   "id": "32ee0297",
   "metadata": {},
   "source": [
    "Utwórz listę podobną do poniższej, ale jeśli pojawiają się w niej liczby mniejsze równe 0, to pomnóż je razy 5. \\\n",
    "Uwaga! Nie modyfikuj bezpośrednio podanej listy."
   ]
  },
  {
   "cell_type": "code",
   "execution_count": null,
   "id": "6b93d19e",
   "metadata": {},
   "outputs": [],
   "source": [
    "nmp_lista1 = np.array([5, -1, 3, 6, 0, -1, 2, 4, 1])\n",
    "\n"
   ]
  },
  {
   "cell_type": "markdown",
   "id": "8969718f",
   "metadata": {},
   "source": [
    "---\n",
    "\n",
    "## Funkcje tabularyczne"
   ]
  },
  {
   "cell_type": "code",
   "execution_count": null,
   "id": "40b89392",
   "metadata": {},
   "outputs": [],
   "source": [
    "print(np.arange(1, 20, 2))              # ciąg liczb rzeczywistych od 1 do 19 o kroku 2\n",
    "print(np.arange(0, 1, 0.1))"
   ]
  },
  {
   "cell_type": "code",
   "execution_count": null,
   "id": "d6b1ab39",
   "metadata": {},
   "outputs": [],
   "source": [
    "print(range(1, 20, 2))\n",
    "print(range(0, 1, 0.1))                 # base.range nie pozwala na ciągi liczb rzeczywistych, jedynie całkowitych"
   ]
  },
  {
   "cell_type": "code",
   "execution_count": null,
   "id": "9c67e260",
   "metadata": {},
   "outputs": [],
   "source": [
    "print(np.linspace(0, 1, 5))             # ciąg 5 liczb rzeczywistych rozciągniętych równo na przedziale [0, 1]"
   ]
  },
  {
   "cell_type": "code",
   "execution_count": null,
   "id": "47ea4918",
   "metadata": {},
   "outputs": [],
   "source": [
    "print(np.zeros(5))                      # lista zer długości 5"
   ]
  },
  {
   "cell_type": "code",
   "execution_count": null,
   "id": "3f064e2d",
   "metadata": {},
   "outputs": [],
   "source": [
    "print(np.zeros((3, 4)))                 # tablica zer wymiaru 3 x 4"
   ]
  },
  {
   "cell_type": "code",
   "execution_count": null,
   "id": "7f7b7847",
   "metadata": {},
   "outputs": [],
   "source": [
    "print(np.ones(5))                       # lista jedynek długości 5"
   ]
  },
  {
   "cell_type": "code",
   "execution_count": null,
   "id": "f67919ba",
   "metadata": {},
   "outputs": [],
   "source": [
    "print(np.ones((3, 4)))                  # tablica jedynek wymiaru 3 x 4"
   ]
  },
  {
   "cell_type": "code",
   "execution_count": null,
   "id": "a22f1935",
   "metadata": {},
   "outputs": [],
   "source": [
    "print(np.random.randint(1, 10, 5))      # lista 5 losowych liczb całkowitych z przedziału [1, 10]"
   ]
  },
  {
   "cell_type": "code",
   "execution_count": null,
   "id": "21813e72",
   "metadata": {},
   "outputs": [],
   "source": [
    "print(np.random.randint(1, 10, (3, 4))) # tablica 3 x 4 losowych liczb całkowitych z przedziału [1, 10]"
   ]
  },
  {
   "cell_type": "code",
   "execution_count": null,
   "id": "da58c853",
   "metadata": {},
   "outputs": [],
   "source": [
    "print(np.random.rand(5))                # lista 5 liczb losowych z przedziału [0, 1)"
   ]
  },
  {
   "cell_type": "code",
   "execution_count": null,
   "id": "acfd5c1e",
   "metadata": {},
   "outputs": [],
   "source": [
    "print(np.random.rand(3, 4))             # tablica 3 x 4 liczb losowych z przedziału [0, 1) "
   ]
  },
  {
   "cell_type": "code",
   "execution_count": null,
   "id": "5d85867c",
   "metadata": {
    "scrolled": true
   },
   "outputs": [],
   "source": [
    "print(np.random.randn(5))               # lista 5 liczb losowych ze standardowego rozkładu normalnego (N(0, 1))"
   ]
  },
  {
   "cell_type": "code",
   "execution_count": null,
   "id": "026b9a0d",
   "metadata": {},
   "outputs": [],
   "source": [
    "print(np.random.randn(3, 4))            # tablica 3 x 4  liczb losowych ze standardowego rozkładu normalnego (N(0, 1))"
   ]
  },
  {
   "cell_type": "markdown",
   "id": "dcc4c345",
   "metadata": {},
   "source": [
    "## Funkcje matematyczne"
   ]
  },
  {
   "cell_type": "code",
   "execution_count": null,
   "id": "14b46ce0",
   "metadata": {},
   "outputs": [],
   "source": [
    "nmp_tablica = np.random.rand(3, 4)    \n",
    "\n",
    "print(np.round(nmp_tablica, 2))         # zaokrąglenie dla każdego elementu"
   ]
  },
  {
   "cell_type": "code",
   "execution_count": null,
   "id": "feabe1dc",
   "metadata": {},
   "outputs": [],
   "source": [
    "nmp_tablica = np.array([[1, 2, 3],\n",
    "                        [4, 5, 6],\n",
    "                        [7, 8, 9]])\n",
    "\n",
    "print(np.sqrt(nmp_tablica))             # pierwiastek dla każdego elementu"
   ]
  },
  {
   "cell_type": "code",
   "execution_count": null,
   "id": "845f4558",
   "metadata": {},
   "outputs": [],
   "source": [
    "nmp_tablica = np.array([1, 2, 3, 4, 5, 6, 7, 8, 9])\n",
    "\n",
    "print(np.mean(nmp_tablica))\n",
    "print(np.std(nmp_tablica))              # statystyki dla elementów tablicy jako próby, np. średnia, odchylenie standardowe"
   ]
  }
 ],
 "metadata": {
  "kernelspec": {
   "display_name": "Python 3 (ipykernel)",
   "language": "python",
   "name": "python3"
  },
  "language_info": {
   "codemirror_mode": {
    "name": "ipython",
    "version": 3
   },
   "file_extension": ".py",
   "mimetype": "text/x-python",
   "name": "python",
   "nbconvert_exporter": "python",
   "pygments_lexer": "ipython3",
   "version": "3.10.2"
  },
  "vp": {
   "vp_config_version": "1.0.0",
   "vp_menu_width": 273,
   "vp_note_display": false,
   "vp_note_width": 0,
   "vp_position": {
    "width": 278
   },
   "vp_section_display": false,
   "vp_signature": "VisualPython"
  }
 },
 "nbformat": 4,
 "nbformat_minor": 5
}
