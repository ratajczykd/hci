{
 "cells": [
  {
   "cell_type": "markdown",
   "metadata": {},
   "source": [
    "# Jupyter Notebook"
   ]
  },
  {
   "cell_type": "markdown",
   "metadata": {},
   "source": [
    "**Możliwe działania**:\n",
    "\n",
    "-\t*uruchamianie kodu*: ikonka `▶` przy komórce / ikonka „Run” (na górze) / skrót klawiszowy `Shift + Enter` lub `Ctrl + Enter` (bez przejścia do kolejnego chunka)\n",
    "-\t*utworzenie nowej komórki*: ikonka `+` / skrót klawiszowy `b`\n",
    "(kursor poza komórką – tryb poleceń (niebieska ramka komórki), a nie edycji (zielona); przejście do trybu poleceń poprzez kliknięcie poza pole komórki, ale nie za komórkę lub za pomocą skrótu klawiszowego `Esc`)\n",
    "-\t*zamiana typu komórki na komórkę z tekstem*: zmiana `Code` na `Markdown` / skrót klawiszowy `m`\n",
    "-\t*zamiana typu komórki na komórkę z kodem*: zmiana `Markdown` na `Code` / skrót klawiszowy `y`\n",
    "-\t*podzielenie komórki na dwie części*: `Ctrl + Shift + -`\n",
    "-\t*usunięcie komórki (jako wytnij/cut)*: ikonka `✂` / skrót klawiszowy `x`\n",
    "-\t*cofnięcie usunięcia komórki*: skrót klawiszowy `z`\n",
    "-\t*zmiana kolejności komórek*: ikonki `↑`, `↓`\n",
    "-\t*wyświetlenie informacji o funkcji*: skrót klawiszowy `Shift + Tab`\n",
    "-\t*lista pozostałych funkcji*: `Open the command palette`\n",
    "-\t*nowy plik*: np. w pliku `File` → `New Notebook` lub w folderze `New` → `Python 3`\n",
    "\n",
    "\n",
    "**Ważne**:\n",
    "\n",
    " Komórki można uruchamiać w różnej kolejności.\n",
    " \n",
    " Wszystkie zmienne wczytane od pierwszego uruchomienia znajdują się w pamięci tzw. kernela.\n",
    " \n",
    " Do wyświetlenia zawartości ostatniej linii komórki nie potrzeba polecenia print, ale przy potrzebie wyświetlenia kilku linii komórki jest ono konieczne."
   ]
  },
  {
   "cell_type": "markdown",
   "metadata": {},
   "source": [
    "## Ćwiczenie"
   ]
  },
  {
   "cell_type": "code",
   "execution_count": null,
   "metadata": {},
   "outputs": [],
   "source": [
    "'Hello world!', 2 + 3     # Uruchom komórkę."
   ]
  },
  {
   "cell_type": "markdown",
   "metadata": {},
   "source": [
    "Uruchom tę komórkę, a poniżej dodaj komórkę z kodem oraz komórkę z tekstem."
   ]
  },
  {
   "cell_type": "markdown",
   "metadata": {},
   "source": [
    "Usuń tę komórkę."
   ]
  },
  {
   "cell_type": "markdown",
   "metadata": {},
   "source": [
    "Tę też usuń."
   ]
  },
  {
   "cell_type": "markdown",
   "metadata": {},
   "source": [
    "Przywróć ostatnią usuniętą komórkę."
   ]
  },
  {
   "cell_type": "markdown",
   "metadata": {},
   "source": [
    "Zamień kolejnością tą komórkę z poprzednią."
   ]
  },
  {
   "cell_type": "markdown",
   "metadata": {},
   "source": [
    "## Podstawy Markdowna"
   ]
  },
  {
   "cell_type": "markdown",
   "metadata": {},
   "source": [
    "-\tnowa linia (`\\` na końcu poprzedniej linii)\n",
    "-\tnowy akapit (pusta linia przed)\n",
    "-\tnagłówki (1. poziom: `#` przed tekstem nagłówka lub podkreślenie tekstu nagłówka przez `=` w kolejnej linii, 2. poziom: `##` lub podkreślenie przez `-`)\n",
    "-\tpogrubienie (`**`)\n",
    "-\tkursywa (`*`)\n",
    "-\tlista numerowana (`1. … 2. … 3. …` w kolejnych liniach)\n",
    "-\tlista nienumerowana (`- … - … - …` w kolejnych liniach)\n"
   ]
  },
  {
   "cell_type": "markdown",
   "metadata": {},
   "source": [
    "## Nieco szerzej o podstawach Markdowna"
   ]
  },
  {
   "cell_type": "markdown",
   "metadata": {},
   "source": [
    "Nowy wiersz w markdownie można utworzyć przez backslash \\\n",
    "lub dwie  \n",
    "spacje.\n",
    "\n",
    "Nowy akapit tworzymy pozostawiając pusty wiersz.\n",
    "\n",
    "  Domyślnie akapity nie posiadają wcięcia, nawet jeśli użyjemy tabulacji.\n",
    "\n",
    "W taki sposób robimy w markdownie:\n",
    "\n",
    "*kursywę*,          _też kursywę_, \\\n",
    "**pogrubienie**,    __też pogrubienie__, \\\n",
    "~~przekreślenie~~.\n",
    "\n",
    "> Gdy chcemy wyróżnić jakiś tekst,\n",
    ">\n",
    "> możemy go wyeksponować przez znak \">\".\n",
    "\n",
    "Trzy kreski \n",
    "\n",
    "---\n",
    "\n",
    "lub trzy gwiazdki\n",
    "\n",
    "***\n",
    "\n",
    "albo trzy podkreślenia\n",
    "\n",
    "___\n",
    "\n",
    "pozwalają zrobić poziomą linię.\n",
    "\n",
    "---"
   ]
  },
  {
   "cell_type": "markdown",
   "metadata": {},
   "source": [
    "Rozdział 1\n",
    "===========\n",
    "\n",
    "Podkreślenie znakami \"=\" daje nagłówek najwyższego poziomu.\n",
    "\n",
    "Podrozdział 1.1\n",
    "----------------\n",
    "\n",
    "Podkreślenie znakami \"-\" daje nagłówek niższego poziomu.\n",
    "\n",
    "Podrozdział 1.2\n",
    "----------------\n",
    "\n",
    "[Jakiś tekst.]\n",
    "\n",
    "\n",
    "# Rozdział 2\n",
    "\n",
    "Jeden znak \"#\" daje ten efekt co \"=\" - nagłówek najwyższego poziomu.\n",
    "\n",
    "## Podrozdział 2.1\n",
    "\n",
    "Dwa znaki \"#\" dają ten efekt co \"-\" - nagłówek niższego poziomu.\n",
    "\n",
    "### Podpodrozdział 2.1.1\n",
    " \n",
    "Trzy znaki \"#\" pozwalają na nagłówek jeszcze niższego poziomu.\\\n",
    "liczba znaków \"#\" = poziom zagłębienia nagłówka (nie jego rozmiar)\n",
    " \n",
    "### Podpodrozdział 2.1.2\n",
    "\n",
    "Nagłówki wykonane przez znaki \"=\" i \"-\" oraz przez znak \"#\" można bez problemu łączyć.\n",
    "\n",
    "---"
   ]
  },
  {
   "cell_type": "markdown",
   "metadata": {},
   "source": [
    "### Elementy do dodania\n",
    "\n",
    "**Lista numerowana**\n",
    "\n",
    "1. dodajemy\n",
    "1. wypisując\n",
    "4. kolejne\n",
    "3. liczby\n",
    "\n",
    "**Lista nienumerowana**\n",
    "\n",
    "- dodajemy\n",
    "  + poprzez\n",
    "+ znaki takie jak:\n",
    "  - myślniki\n",
    "  + plusy\n",
    "  * i gwiazdki\n",
    "- oraz\n",
    "  * odpowiednią\n",
    "      * do poziomu\n",
    "        * liczbę\n",
    "  * tabulacji\n",
    "\n",
    "Możemy\n",
    "\n",
    "1. łączyć\n",
    "    - oba\n",
    "      * typy\n",
    "2. list\n",
    "\n",
    "\n",
    "Myślniki (\"-\") oraz pionowe linie (\"|\") pozwalają na\n",
    "\n",
    "| utworzenie | tabelki. |\n",
    "|------------|----------|\n",
    "| komórka    | komórka  |\n",
    "| komórka    | komórka  |\n",
    "\n",
    "\n",
    "Możemy też dodać tekst sformatowany jako kod, np. **pseudokod**. Pozwala na to \n",
    "\n",
    "    wcięcie\n",
    "    z dwoma\n",
    "    tabulacjami.\n",
    "    \n",
    "Będzie on jedynie sformatowany jako kod, więc nie będzie wykonywał się podczas kompilacji pliku.\n",
    "    \n",
    "Taki sam efekt uzyskamy umieszczając treść pomiędzy\n",
    "\n",
    "```\n",
    "trzema backtickami\n",
    "z obu stron.\n",
    "```\n",
    "\n",
    "Pojedynczy `backtick` z obu stron pozwala na umieszczenie kodu w wierszu, pomiędzy tekstem."
   ]
  },
  {
   "cell_type": "markdown",
   "metadata": {},
   "source": [
    "# Liczby binarne"
   ]
  },
  {
   "cell_type": "markdown",
   "metadata": {},
   "source": [
    "## System dziesiętny"
   ]
  },
  {
   "cell_type": "markdown",
   "metadata": {},
   "source": [
    "\n",
    "<img src=\"../images/decimal-min.png\" width=\"620\" align=\"left\">\n"
   ]
  },
  {
   "cell_type": "markdown",
   "metadata": {},
   "source": [
    "## Zamiana liczb dziesiętnych na binarne\n",
    "\n",
    "Za pomocą jednego bitu możemy zapisać dwie podstawowe cyfry binarne: 0 i 1, w zapisie dziesiętnym ich znaczenie jest takie samo.\n",
    "\n",
    "Aby zapisać kolejne cyfry (2 i 3) należy skorzystać z dwóch bitów:\n",
    "\n",
    "| dziesiętny | binarny |\n",
    "|:------:|:--------------------------:|\n",
    "|      2|10                           |\n",
    "|       3|11                          |\n",
    "\n"
   ]
  },
  {
   "cell_type": "markdown",
   "metadata": {},
   "source": [
    "Wykorzystanie 3 bitów pozwoli na zapis kolejnych cyfr z systemu dziesiętnego:\n",
    "\n",
    "| dziesiętny | binarny |\n",
    "|:------:|:--------------------------:|\n",
    "|4 | 100|\n",
    "|5 | 101|\n",
    "|6 | 110|\n",
    "|7 | 111|\n"
   ]
  },
  {
   "cell_type": "markdown",
   "metadata": {},
   "source": [
    "### Jak zamienić dowolną liczbę dziesiętną na binarną? \n",
    "Przykład (liczba 18 na zapis binarny):\n",
    "\n",
    "\n",
    "     liczba|reszta z dzielenia przez 2\n",
    "     _________________________________\n",
    "         18|0                      \n",
    "          9|1                           \n",
    "          4|0                         \n",
    "          2|0                           \n",
    "          1|1                           \n",
    "\n",
    "\n",
    "Następnie odczytujemy kolejność od dołu: 10010\n",
    "    "
   ]
  },
  {
   "cell_type": "markdown",
   "metadata": {},
   "source": [
    "Można to także sprawdzić w Pythonie:"
   ]
  },
  {
   "cell_type": "code",
   "execution_count": null,
   "metadata": {},
   "outputs": [],
   "source": [
    "d = 18\n",
    "print(bin(d))"
   ]
  },
  {
   "cell_type": "markdown",
   "metadata": {},
   "source": [
    "I na odwrót:"
   ]
  },
  {
   "cell_type": "code",
   "execution_count": null,
   "metadata": {},
   "outputs": [],
   "source": [
    "b = '10010' \n",
    "print(int(b, 2))"
   ]
  },
  {
   "cell_type": "code",
   "execution_count": null,
   "metadata": {},
   "outputs": [],
   "source": [
    "d = 18\n",
    "b = bin(d)\n",
    "print(int(b, 2))"
   ]
  },
  {
   "cell_type": "markdown",
   "metadata": {},
   "source": [
    "## Zamiana liczby binarnej na dziesiętną\n",
    "\n",
    "Uzyskaną liczbę binarną (10010) zamieńmy na dziesiętną.\n",
    "Sposób bardziej przyzwoity i poprawny z matematycznego punktu widzenia niż przedstawiony powyżej:"
   ]
  },
  {
   "cell_type": "markdown",
   "metadata": {},
   "source": [
    "\n",
    "\n",
    "$ 1∗2^{4}+0∗2^{3}+0∗2^{2}+1∗2^{1}+0∗2^{0}= 16+2=18 $\n"
   ]
  },
  {
   "cell_type": "markdown",
   "metadata": {},
   "source": [
    "## Dodawanie liczb binarnych"
   ]
  },
  {
   "cell_type": "markdown",
   "metadata": {},
   "source": [
    "Prosty przykład:\n",
    "```\n",
    "  10=2\n",
    "+ 01=1\n",
    "--------\n",
    "  11=3\n",
    "```\n",
    "Przykład z dwiema jedynkami w jednej kolumnie:\n",
    "```\n",
    "  001=1\n",
    "+ 101=5\n",
    "--------\n",
    "  110=6\n",
    "  ```"
   ]
  },
  {
   "cell_type": "markdown",
   "metadata": {},
   "source": [
    "Dlaczego? Zaczynamy od prawej strony 1+1=10, dlatego na dole zapisujemy 0 i zapamiętujemy 1. W następnym kroku dodajemy 0+0+1 (zapamietane) co daje 1, które zapisujemy na dole. W ostatnim kroku dodajemy 0 + 1 i pod kreską zapisujemy 1."
   ]
  },
  {
   "cell_type": "markdown",
   "metadata": {},
   "source": [
    "###   Zadanie <img src=\"../images/pencil.png\" width=\"20\" align=\"left\">\n",
    "\n",
    "1. Zamień na binarne liczbę 12 oraz liczbę 10."
   ]
  },
  {
   "cell_type": "code",
   "execution_count": null,
   "metadata": {},
   "outputs": [],
   "source": []
  },
  {
   "cell_type": "markdown",
   "metadata": {},
   "source": [
    "2. Dodaj w Pythonie poniższe dwie liczby binarne i zwróć wynik w systemie dziesiętnym."
   ]
  },
  {
   "cell_type": "code",
   "execution_count": null,
   "metadata": {},
   "outputs": [],
   "source": [
    "b1 = '0b1011'\n",
    "b2 = '0b101'\n"
   ]
  },
  {
   "cell_type": "markdown",
   "metadata": {},
   "source": [
    "3. Dodaj w Pythonie poniższe dwie liczby binarne i zwróć wynik w systemie binarnym."
   ]
  },
  {
   "cell_type": "code",
   "execution_count": null,
   "metadata": {},
   "outputs": [],
   "source": [
    "b1 = '0b11001101'\n",
    "b2 = '0b10110100'\n"
   ]
  },
  {
   "cell_type": "markdown",
   "metadata": {},
   "source": [
    "## Odejmowanie liczb binarnych\n",
    "\n",
    "Prosty przykład:\n",
    "\n",
    "```\n",
    "  11=3\n",
    "- 01=1\n",
    "--------\n",
    "  10=2\n",
    "```\n",
    "\n",
    "Przykład z zerem i jedynką w jednej kolumnie:\n",
    "\n",
    "```\n",
    "  101=5\n",
    "- 011=3\n",
    "--------\n",
    "  010=2\n",
    "```\n",
    "\n",
    "\n",
    "Dlaczego? Zaczynamy od prawej strony 1-1=0, dlatego na dole zapisujemy 0. W następnym kroku odejmujemy 0-1, musimy zastosować metodę, którą znamy z tradycyjnego odejmowania, czyli \"pożyczenie\" (jeśli pożyczamy z wyższego 1 to de facto mamy 2 w zapisie dziesiętnym, 10 w zapisie binarnym) 1 z następnej kolumny, w ten sposób uzyskujemy 10-0-1 = 1 które zapisujemy na dole. W ostatnim kroku 0-0=0. Zapis 1-1 oznacza, że musimy \"oddać\" \"pożyczoną\" jedynkę."
   ]
  },
  {
   "cell_type": "markdown",
   "metadata": {},
   "source": [
    "## Mnożenie liczb binarnych\n",
    "\n",
    "```\n",
    "   101=5\n",
    "*  101=5\n",
    "----------\n",
    "   101\n",
    "  000\n",
    "+101\n",
    "----------\n",
    " 11001=25\n",
    "```\n",
    "\n",
    "Mnożymy tak jak robimy to w tradycyjnym mnożeniu. Wyniki zapisujemy poniżej. Uzyskane wyniki dodajemy."
   ]
  }
 ],
 "metadata": {
  "kernelspec": {
   "display_name": "Python 3 (ipykernel)",
   "language": "python",
   "name": "python3"
  },
  "language_info": {
   "codemirror_mode": {
    "name": "ipython",
    "version": 3
   },
   "file_extension": ".py",
   "mimetype": "text/x-python",
   "name": "python",
   "nbconvert_exporter": "python",
   "pygments_lexer": "ipython3",
   "version": "3.10.2"
  },
  "vp": {
   "vp_config_version": "1.0.0",
   "vp_menu_width": 273,
   "vp_note_display": false,
   "vp_note_width": 0,
   "vp_position": {
    "width": 278
   },
   "vp_section_display": false,
   "vp_signature": "VisualPython"
  }
 },
 "nbformat": 4,
 "nbformat_minor": 2
}
