{
 "cells": [
  {
   "cell_type": "markdown",
   "metadata": {},
   "source": [
    "### Zadanie\n",
    "\n",
    "Opierając się na 5 ostatnich cyfrach swojego indeksu, utwórz formułę logiczną - połącz zmienną *p* spójnikami logicznymi, które odpowiadają poszczególnym z tych cyfr, zgodnie z poniższą rozpiską. Nawiasy dodaj kolejno od lewej strony.\n",
    "\n",
    "* koniunkcja (∧) - 3, 4\n",
    "* alternatywa (⋁) - 7, 8\n",
    "* dysjunkcja (/) - 0 \n",
    "* binegacja (↓) - 6 jeśli ostatnia cyfra indeksu jest parzysta, 5 jeśli nieparzysta\n",
    "* alternatywa rozłączna (⊥) - 5 jeśli ostatnia cyfra indeksu jest parzysta, 6 jeśli nieparzysta\n",
    "* równoważność (⟷) - 1, 2\n",
    "* implikacja (⟶) - 9.\n",
    "\n",
    "Przedstaw tę formułę logiczną w postaci najbardziej adekwatnej do niej bramki logicznej.\n",
    "\n",
    "Zamieść:\n",
    "\n",
    "- swój numeru indeksu,\n",
    "- otrzymaną formułę logiczną,\n",
    "- formułę z nazwami bramek (1 pkt),\n",
    "- schemat bramki (1 pkt)."
   ]
  },
  {
   "cell_type": "markdown",
   "metadata": {},
   "source": [
    "#### Kod zwracający Twoją formułę"
   ]
  },
  {
   "cell_type": "code",
   "execution_count": null,
   "metadata": {},
   "outputs": [],
   "source": [
    "x = input('Twój nr indeksu: ')\n",
    "\n",
    "if int(x[-1]) % 2 != 0:\n",
    "    x = x.translate(x.maketrans({'5': '6', '6': '5'}))\n",
    "\n",
    "rozpiska = {3 : '∧', 4 : '∧', 7 : '⋁', 8 : '⋁', 0 : '/', 1 : '⟷', 2 : '⟷', 6 : '↓', 5 : '⊥', 9 : '⟶'}\n",
    "\n",
    "formula = '((p'\n",
    "\n",
    "for i, num in enumerate(x[1:]):\n",
    "    formula += ' ' + rozpiska[int(num)] + ' '\n",
    "    if i in [1, 3, 5]:\n",
    "        formula += '('\n",
    "    formula += 'p'\n",
    "    if i in [0, 4]:\n",
    "        formula += ')'\n",
    "    elif i == 2:\n",
    "        formula += '))'\n",
    "        \n",
    "print('Twoja formuła:   ' + formula)"
   ]
  },
  {
   "cell_type": "markdown",
   "metadata": {},
   "source": [
    "#### Symbole\n",
    "\n",
    "<img src = \"Bramki_symbole.png\" width=\"500\" height=\"250\"/>"
   ]
  }
 ],
 "metadata": {
  "kernelspec": {
   "display_name": "Python 3 (ipykernel)",
   "language": "python",
   "name": "python3"
  },
  "language_info": {
   "codemirror_mode": {
    "name": "ipython",
    "version": 3
   },
   "file_extension": ".py",
   "mimetype": "text/x-python",
   "name": "python",
   "nbconvert_exporter": "python",
   "pygments_lexer": "ipython3",
   "version": "3.10.2"
  },
  "vp": {
   "vp_config_version": "1.0.0",
   "vp_menu_width": 273,
   "vp_note_display": false,
   "vp_note_width": 0,
   "vp_position": {
    "width": 278
   },
   "vp_section_display": false,
   "vp_signature": "VisualPython"
  }
 },
 "nbformat": 4,
 "nbformat_minor": 2
}
