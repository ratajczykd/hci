{
 "cells": [
  {
   "cell_type": "markdown",
   "metadata": {},
   "source": [
    "# Filtracja"
   ]
  },
  {
   "cell_type": "markdown",
   "metadata": {},
   "source": [
    "Typy filtrów:\n",
    "\n",
    "- **dolnoprzepustowy**\n",
    "\n",
    "![dolnoprzepustowy](../images/dolnoprzepustowy.jpg)\n",
    "\n",
    "- **gornoprzepustowy**\n",
    "\n",
    "![gornoprzepustowy](../images/gornoprzepustowy.jpg)\n",
    "\n",
    "- **pasmowo--zaporowy**\n",
    "\n",
    "![pasmowozaporowy](../images/pasmowozaporowy.jpg)\n",
    "\n",
    "- **pasmowo--przepustowy**\n",
    "\n",
    "![pasmowoprzepustowy](../images/pasmowoprzepustowy.jpg)"
   ]
  },
  {
   "cell_type": "markdown",
   "metadata": {},
   "source": [
    "### Odwołania do filtrów z pliku aseegg: \n",
    "ag.gornoprzepustowy \\\n",
    "ag.dolnoprzepustowy \\\n",
    "ag.pasmowoprzepustowy \\\n",
    "ag.pasmowozaporowy\n",
    "    \n",
    "    "
   ]
  },
  {
   "cell_type": "markdown",
   "metadata": {},
   "source": [
    " "
   ]
  },
  {
   "cell_type": "code",
   "execution_count": null,
   "metadata": {},
   "outputs": [],
   "source": [
    "import numpy as np\n",
    "import matplotlib.pyplot as plt\n",
    "import aseegg as ag"
   ]
  },
  {
   "cell_type": "markdown",
   "metadata": {},
   "source": [
    "###   Zadanie 1 <img src=\"../images/pencil.png\" width=\"20\" align=\"left\">\n",
    "\n",
    "Narysuj *nowy_sygnal* w dziedzinie czasu i częstotliwości z użyciem subplotów. "
   ]
  },
  {
   "cell_type": "code",
   "execution_count": null,
   "metadata": {},
   "outputs": [],
   "source": [
    "czest1 = 5\n",
    "czest2 = 17\n",
    "czest3 = 31\n",
    "czestProbkowania = 250\n",
    "czas = 3\n",
    "\n",
    "\n",
    "t = np.linspace(0, czas, czas * czestProbkowania)\n",
    "nowy_sygnal = np.sin(2* np.pi* czest1 *t)+np.sin(2* np.pi*czest2 *t)+np.sin(2* np.pi* czest3 *t)\n"
   ]
  },
  {
   "cell_type": "code",
   "execution_count": null,
   "metadata": {},
   "outputs": [],
   "source": []
  },
  {
   "cell_type": "code",
   "execution_count": null,
   "metadata": {},
   "outputs": [],
   "source": []
  },
  {
   "cell_type": "code",
   "execution_count": null,
   "metadata": {},
   "outputs": [],
   "source": []
  },
  {
   "cell_type": "code",
   "execution_count": null,
   "metadata": {},
   "outputs": [],
   "source": []
  },
  {
   "cell_type": "markdown",
   "metadata": {},
   "source": [
    "## Filtracja"
   ]
  },
  {
   "cell_type": "code",
   "execution_count": null,
   "metadata": {},
   "outputs": [],
   "source": [
    "przefiltrowany = ag.gornoprzepustowy(nowy_sygnal, czestProbkowania, 10)"
   ]
  },
  {
   "cell_type": "markdown",
   "metadata": {},
   "source": [
    " "
   ]
  },
  {
   "cell_type": "markdown",
   "metadata": {},
   "source": [
    "## Jak wygląda wcześniej stworzony sygnał \"*nowy_sygnal*\"  po filtracji? "
   ]
  },
  {
   "cell_type": "code",
   "execution_count": null,
   "metadata": {},
   "outputs": [],
   "source": [
    "freq = np.linspace(0, czestProbkowania, czas * czestProbkowania)\n",
    "przefiltrowany_ffted = ag.FFT(przefiltrowany)\n",
    "\n",
    "\n",
    "plt.subplot(2,1,1)\n",
    "plt.plot(t, przefiltrowany)\n",
    "\n",
    "plt.subplot(2,1,2)\n",
    "plt.plot(freq, przefiltrowany_ffted)\n",
    "plt.xlim([0,40])"
   ]
  },
  {
   "cell_type": "code",
   "execution_count": null,
   "metadata": {},
   "outputs": [],
   "source": []
  },
  {
   "cell_type": "code",
   "execution_count": null,
   "metadata": {},
   "outputs": [],
   "source": []
  },
  {
   "cell_type": "markdown",
   "metadata": {},
   "source": [
    "###   Zadanie 2 <img src=\"../images/pencil.png\" width=\"20\" align=\"left\">\n",
    "\n",
    "Usuń z kolejnego sygnału częstotliwości od 50 do 150Hz. Porównaj sygnały przed i po filtracji w dziedzinach czasu i częstotliwości. \n",
    "\n",
    "Kolejność pracy: \n",
    "1. Narysuj wykresy sygnału w dziedzinie czasu i częstotliwości. \n",
    "2. Wykonaj filtrację sygnału (pierwotnego, nie FFT). \n",
    "3. Narysuj wykresy przefitrowanego sygnału w dziedzinie czasu i częstotliwości. "
   ]
  },
  {
   "cell_type": "code",
   "execution_count": null,
   "metadata": {},
   "outputs": [],
   "source": [
    "t = np.linspace(0, 1, 1000)\n",
    "\n",
    "kolejny_sygnal = np.zeros(1000)\n",
    "for i in range(20):\n",
    "    f = i*10\n",
    "    kolejny_sygnal += np.sin(2*np.pi*f*t)"
   ]
  },
  {
   "cell_type": "code",
   "execution_count": null,
   "metadata": {},
   "outputs": [],
   "source": []
  },
  {
   "cell_type": "code",
   "execution_count": null,
   "metadata": {},
   "outputs": [],
   "source": []
  },
  {
   "cell_type": "code",
   "execution_count": null,
   "metadata": {},
   "outputs": [],
   "source": []
  },
  {
   "cell_type": "code",
   "execution_count": null,
   "metadata": {},
   "outputs": [],
   "source": []
  },
  {
   "cell_type": "code",
   "execution_count": null,
   "metadata": {},
   "outputs": [],
   "source": []
  },
  {
   "cell_type": "code",
   "execution_count": null,
   "metadata": {},
   "outputs": [],
   "source": []
  },
  {
   "cell_type": "markdown",
   "metadata": {},
   "source": [
    "## Praca z prawdziwym sygnałem"
   ]
  },
  {
   "cell_type": "markdown",
   "metadata": {},
   "source": [
    "###   Zadanie 3 <img src=\"../images/pencil.png\" width=\"20\" align=\"left\">\n",
    "\n",
    "\n",
    "Pobierz ponownie plik *dane.csv* i wykonaj filtrację sygnału, tak aby usunąć szum związany z urządzeniami elektrycznymi. Częstotliwość próbkowania wynosi 250"
   ]
  },
  {
   "cell_type": "code",
   "execution_count": null,
   "metadata": {},
   "outputs": [],
   "source": []
  },
  {
   "cell_type": "code",
   "execution_count": null,
   "metadata": {},
   "outputs": [],
   "source": []
  },
  {
   "cell_type": "markdown",
   "metadata": {},
   "source": [
    "Wykonaj filtrację aby usunąć szum poniżej częstotliwości 3Hz oraz szum z gniazdek elektryczynych (50Hz)"
   ]
  },
  {
   "cell_type": "code",
   "execution_count": null,
   "metadata": {},
   "outputs": [],
   "source": []
  },
  {
   "cell_type": "code",
   "execution_count": null,
   "metadata": {},
   "outputs": [],
   "source": []
  },
  {
   "cell_type": "markdown",
   "metadata": {},
   "source": [
    "Narysuj wykresy w dziedzinie czasu i częstotliwości"
   ]
  },
  {
   "cell_type": "code",
   "execution_count": null,
   "metadata": {},
   "outputs": [],
   "source": []
  },
  {
   "cell_type": "code",
   "execution_count": null,
   "metadata": {},
   "outputs": [],
   "source": []
  }
 ],
 "metadata": {
  "kernelspec": {
   "display_name": "Python 3 (ipykernel)",
   "language": "python",
   "name": "python3"
  },
  "language_info": {
   "codemirror_mode": {
    "name": "ipython",
    "version": 3
   },
   "file_extension": ".py",
   "mimetype": "text/x-python",
   "name": "python",
   "nbconvert_exporter": "python",
   "pygments_lexer": "ipython3",
   "version": "3.8.10"
  }
 },
 "nbformat": 4,
 "nbformat_minor": 2
}
